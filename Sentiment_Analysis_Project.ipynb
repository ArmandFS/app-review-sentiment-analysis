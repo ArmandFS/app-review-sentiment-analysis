{
 "cells": [
  {
   "cell_type": "markdown",
   "metadata": {
    "id": "T34ZMyu10vua"
   },
   "source": [
    "## Sentiment Analysis Project\n",
    "\n",
    "##### This is a sentiment analysis project that is aimed to test machine learning and deep learning models on google play store reviews.\n",
    "\n",
    "\n",
    "\n",
    "\n",
    "## Library dan Tools\n",
    "##### • Pandas, numpy, matplotlib, seaborn digunakan used for data manipulation and visualization\n",
    "##### • Some functions from NLTK untuk text preprocessing, seperti tokenzation, Stemming, stopword removal.\n",
    "##### • Google-play-scraper is the library thats used to perform data scraping on Google Play Store review applications.\n",
    "##### • The rest are libraries (mostly sklearn) that is used to import machine learning and deep learning models.\n"
   ]
  },
  {
   "cell_type": "code",
   "execution_count": null,
   "metadata": {
    "colab": {
     "base_uri": "https://localhost:8080/"
    },
    "id": "6KcRgTpT41O3",
    "outputId": "b1cdcb0c-c734-4594-fabf-400748f9a041"
   },
   "outputs": [],
   "source": [
    "#!pip install google-play-scraper tqdm pandas numpy matplotlib seaborn transformers tensorflow"
   ]
  },
  {
   "cell_type": "code",
   "execution_count": 3,
   "metadata": {
    "colab": {
     "base_uri": "https://localhost:8080/"
    },
    "id": "L0FXAXzM06s3",
    "outputId": "bc1d3dbf-55dc-4325-dd79-68e353c74acf"
   },
   "outputs": [
    {
     "name": "stderr",
     "output_type": "stream",
     "text": [
      "[nltk_data] Downloading package punkt to C:\\Users\\Armand\n",
      "[nltk_data]     S\\AppData\\Roaming\\nltk_data...\n",
      "[nltk_data]   Package punkt is already up-to-date!\n",
      "[nltk_data] Downloading package stopwords to C:\\Users\\Armand\n",
      "[nltk_data]     S\\AppData\\Roaming\\nltk_data...\n",
      "[nltk_data]   Package stopwords is already up-to-date!\n"
     ]
    },
    {
     "data": {
      "text/plain": [
       "True"
      ]
     },
     "execution_count": 3,
     "metadata": {},
     "output_type": "execute_result"
    }
   ],
   "source": [
    "import pandas as pd\n",
    "import numpy as np\n",
    "import matplotlib.pyplot as plt\n",
    "import seaborn as sns\n",
    "import csv\n",
    "\n",
    "seed = 0\n",
    "np.random.seed(seed)\n",
    "\n",
    "import re\n",
    "import string\n",
    "from nltk.tokenize import word_tokenize\n",
    "from nltk.corpus import stopwords\n",
    "from nltk.stem import PorterStemmer\n",
    "\n",
    "\n",
    "#libraries for Google Play Store Scraping\n",
    "from google_play_scraper import app, reviews_all, Sort\n",
    "from datetime import datetime\n",
    "from tqdm import tqdm\n",
    "from wordcloud import WordCloud\n",
    "\n",
    "#ml libraries\n",
    "from sklearn.model_selection import train_test_split, GridSearchCV\n",
    "from sklearn.svm import SVC\n",
    "from sklearn.feature_extraction.text import TfidfVectorizer\n",
    "from sklearn.ensemble import RandomForestClassifier\n",
    "from sklearn.linear_model import LogisticRegression\n",
    "from sklearn.metrics import accuracy_score, classification_report, confusion_matrix\n",
    "\n",
    "\n",
    "\n",
    "import nltk\n",
    "nltk.download('punkt')\n",
    "nltk.download('stopwords')\n"
   ]
  },
  {
   "cell_type": "markdown",
   "metadata": {
    "id": "HtxADcWJeA9R"
   },
   "source": [
    "### Data Scraping Process\n",
    "#### • Here we scrape data from google play store reviews from the application crunchyroll.\n",
    "#### • The data that has been scraped will be put in a csv file\n"
   ]
  },
  {
   "cell_type": "code",
   "execution_count": 4,
   "metadata": {
    "id": "7dKcVG4_d_i3"
   },
   "outputs": [],
   "source": [
    "#Scraping Functions\n",
    "scrapreview = reviews_all(\n",
    "    'com.crunchyroll.crunchyroid',\n",
    "    lang='en',\n",
    "    country='us',\n",
    "    sort = Sort.MOST_RELEVANT,\n",
    "    count=3000\n",
    ")\n",
    "\n",
    "#save the reviews to a CSV file\n",
    "with open('crunchyroll_app_reviews.csv', mode='w', newline='', encoding='utf-8') as file:\n",
    "    writer = csv.writer(file)\n",
    "    writer.writerow(['Review'])\n",
    "    for review in scrapreview:\n",
    "        writer.writerow([review['content']])\n"
   ]
  },
  {
   "cell_type": "markdown",
   "metadata": {
    "id": "1-PCl-6cWPN9"
   },
   "source": [
    "### Dataset Loading dan Exploratory Data Analysis\n",
   ]
  },
  {
   "cell_type": "code",
   "execution_count": 5,
   "metadata": {
    "colab": {
     "base_uri": "https://localhost:8080/"
    },
    "id": "vayOSKJqWSVg",
    "outputId": "e15d9511-b1c5-4f1c-8036-577b62c6d1a5"
   },
   "outputs": [
    {
     "name": "stdout",
     "output_type": "stream",
     "text": [
      "Number of Reviews: 103500\n",
      "Number of Columns: 11\n"
     ]
    }
   ],
   "source": [
    "app_reviews_df = pd.DataFrame(scrapreview)\n",
    "\n",
    "num_reviews, num_columns = app_reviews_df.shape\n",
    "print(f\"Number of Reviews: {num_reviews}\")\n",
    "print(f\"Number of Columns: {num_columns}\")\n"
   ]
  },
  {
   "cell_type": "code",
   "execution_count": 6,
   "metadata": {
    "colab": {
     "base_uri": "https://localhost:8080/",
     "height": 574
    },
    "id": "mrsiSBtqrZ2j",
    "outputId": "89ccdc79-a0ac-47d8-8f15-574538345969"
   },
   "outputs": [
    {
     "data": {
      "image/png": "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",
      "text/plain": [
       "<Figure size 1000x500 with 1 Axes>"
      ]
     },
     "metadata": {},
     "output_type": "display_data"
    }
   ],
   "source": [
    "#Visualize Data for EDA\n",
    "plt.figure(figsize=(10, 5))\n",
    "sns.countplot(x='score', data=app_reviews_df, palette='viridis')\n",
    "plt.title('Distribution of Review Ratings')\n",
    "plt.xlabel('Rating')\n",
    "plt.ylabel('Count')\n",
    "plt.show()\n"
   ]
  },
  {
   "cell_type": "code",
   "execution_count": 7,
   "metadata": {
    "colab": {
     "base_uri": "https://localhost:8080/",
     "height": 414
    },
    "id": "_VM30MtapMOt",
    "outputId": "8a09a198-0a07-4268-8bf2-43fb8fdd43e3"
   },
   "outputs": [
    {
     "data": {
      "text/html": [
       "<div>\n",
       "<style scoped>\n",
       "    .dataframe tbody tr th:only-of-type {\n",
       "        vertical-align: middle;\n",
       "    }\n",
       "\n",
       "    .dataframe tbody tr th {\n",
       "        vertical-align: top;\n",
       "    }\n",
       "\n",
       "    .dataframe thead th {\n",
       "        text-align: right;\n",
       "    }\n",
       "</style>\n",
       "<table border=\"1\" class=\"dataframe\">\n",
       "  <thead>\n",
       "    <tr style=\"text-align: right;\">\n",
       "      <th></th>\n",
       "      <th>reviewId</th>\n",
       "      <th>userName</th>\n",
       "      <th>userImage</th>\n",
       "      <th>content</th>\n",
       "      <th>score</th>\n",
       "      <th>thumbsUpCount</th>\n",
       "      <th>reviewCreatedVersion</th>\n",
       "      <th>at</th>\n",
       "      <th>replyContent</th>\n",
       "      <th>repliedAt</th>\n",
       "      <th>appVersion</th>\n",
       "    </tr>\n",
       "  </thead>\n",
       "  <tbody>\n",
       "    <tr>\n",
       "      <th>0</th>\n",
       "      <td>1a054ac6-4bc1-427c-a5e9-2ff3024b2e25</td>\n",
       "      <td>A Google user</td>\n",
       "      <td>https://play-lh.googleusercontent.com/EGemoI2N...</td>\n",
       "      <td>It's an app I got for a show, but I fell in lo...</td>\n",
       "      <td>4</td>\n",
       "      <td>9</td>\n",
       "      <td>3.68.0</td>\n",
       "      <td>2024-10-30 23:00:42</td>\n",
       "      <td>None</td>\n",
       "      <td>NaT</td>\n",
       "      <td>3.68.0</td>\n",
       "    </tr>\n",
       "    <tr>\n",
       "      <th>1</th>\n",
       "      <td>a0484458-d632-4fd9-ad51-ceb5c0e5adda</td>\n",
       "      <td>A Google user</td>\n",
       "      <td>https://play-lh.googleusercontent.com/EGemoI2N...</td>\n",
       "      <td>I've been a premium member since 2020. The app...</td>\n",
       "      <td>3</td>\n",
       "      <td>5</td>\n",
       "      <td>3.68.0</td>\n",
       "      <td>2024-10-29 09:58:58</td>\n",
       "      <td>None</td>\n",
       "      <td>NaT</td>\n",
       "      <td>3.68.0</td>\n",
       "    </tr>\n",
       "    <tr>\n",
       "      <th>2</th>\n",
       "      <td>aa89abbf-1096-4bd3-992f-d8533d80ed54</td>\n",
       "      <td>A Google user</td>\n",
       "      <td>https://play-lh.googleusercontent.com/EGemoI2N...</td>\n",
       "      <td>Ton of glitches, the subs aren't available on ...</td>\n",
       "      <td>1</td>\n",
       "      <td>23</td>\n",
       "      <td>3.68.0</td>\n",
       "      <td>2024-10-21 15:50:30</td>\n",
       "      <td>None</td>\n",
       "      <td>NaT</td>\n",
       "      <td>3.68.0</td>\n",
       "    </tr>\n",
       "    <tr>\n",
       "      <th>3</th>\n",
       "      <td>c9374b1a-9da1-4c1d-9435-e334b5bf939b</td>\n",
       "      <td>A Google user</td>\n",
       "      <td>https://play-lh.googleusercontent.com/EGemoI2N...</td>\n",
       "      <td>The app is fairly standard, UI is easy to navi...</td>\n",
       "      <td>3</td>\n",
       "      <td>12</td>\n",
       "      <td>3.67.2</td>\n",
       "      <td>2024-10-14 02:25:56</td>\n",
       "      <td>None</td>\n",
       "      <td>NaT</td>\n",
       "      <td>3.67.2</td>\n",
       "    </tr>\n",
       "    <tr>\n",
       "      <th>4</th>\n",
       "      <td>318e4c7e-dd13-4e02-9ae9-2dc6a272c976</td>\n",
       "      <td>A Google user</td>\n",
       "      <td>https://play-lh.googleusercontent.com/EGemoI2N...</td>\n",
       "      <td>Literally one of the worst streaming services ...</td>\n",
       "      <td>1</td>\n",
       "      <td>47</td>\n",
       "      <td>3.68.0</td>\n",
       "      <td>2024-10-27 14:40:59</td>\n",
       "      <td>Thanks for the review, Ӄatie! We're sorry that...</td>\n",
       "      <td>2024-10-27 14:45:03</td>\n",
       "      <td>3.68.0</td>\n",
       "    </tr>\n",
       "  </tbody>\n",
       "</table>\n",
       "</div>"
      ],
      "text/plain": [
       "                               reviewId       userName  \\\n",
       "0  1a054ac6-4bc1-427c-a5e9-2ff3024b2e25  A Google user   \n",
       "1  a0484458-d632-4fd9-ad51-ceb5c0e5adda  A Google user   \n",
       "2  aa89abbf-1096-4bd3-992f-d8533d80ed54  A Google user   \n",
       "3  c9374b1a-9da1-4c1d-9435-e334b5bf939b  A Google user   \n",
       "4  318e4c7e-dd13-4e02-9ae9-2dc6a272c976  A Google user   \n",
       "\n",
       "                                           userImage  \\\n",
       "0  https://play-lh.googleusercontent.com/EGemoI2N...   \n",
       "1  https://play-lh.googleusercontent.com/EGemoI2N...   \n",
       "2  https://play-lh.googleusercontent.com/EGemoI2N...   \n",
       "3  https://play-lh.googleusercontent.com/EGemoI2N...   \n",
       "4  https://play-lh.googleusercontent.com/EGemoI2N...   \n",
       "\n",
       "                                             content  score  thumbsUpCount  \\\n",
       "0  It's an app I got for a show, but I fell in lo...      4              9   \n",
       "1  I've been a premium member since 2020. The app...      3              5   \n",
       "2  Ton of glitches, the subs aren't available on ...      1             23   \n",
       "3  The app is fairly standard, UI is easy to navi...      3             12   \n",
       "4  Literally one of the worst streaming services ...      1             47   \n",
       "\n",
       "  reviewCreatedVersion                  at  \\\n",
       "0               3.68.0 2024-10-30 23:00:42   \n",
       "1               3.68.0 2024-10-29 09:58:58   \n",
       "2               3.68.0 2024-10-21 15:50:30   \n",
       "3               3.67.2 2024-10-14 02:25:56   \n",
       "4               3.68.0 2024-10-27 14:40:59   \n",
       "\n",
       "                                        replyContent           repliedAt  \\\n",
       "0                                               None                 NaT   \n",
       "1                                               None                 NaT   \n",
       "2                                               None                 NaT   \n",
       "3                                               None                 NaT   \n",
       "4  Thanks for the review, Ӄatie! We're sorry that... 2024-10-27 14:45:03   \n",
       "\n",
       "  appVersion  \n",
       "0     3.68.0  \n",
       "1     3.68.0  \n",
       "2     3.68.0  \n",
       "3     3.67.2  \n",
       "4     3.68.0  "
      ]
     },
     "execution_count": 7,
     "metadata": {},
     "output_type": "execute_result"
    }
   ],
   "source": [
    "app_reviews_df.head()"
   ]
  },
  {
   "cell_type": "code",
   "execution_count": 8,
   "metadata": {
    "colab": {
     "base_uri": "https://localhost:8080/"
    },
    "id": "QQJIbSlFp2ML",
    "outputId": "e4fba39b-6c6a-4dc7-b0d9-8ec009742044"
   },
   "outputs": [
    {
     "name": "stdout",
     "output_type": "stream",
     "text": [
      "<class 'pandas.core.frame.DataFrame'>\n",
      "RangeIndex: 103500 entries, 0 to 103499\n",
      "Data columns (total 11 columns):\n",
      " #   Column                Non-Null Count   Dtype         \n",
      "---  ------                --------------   -----         \n",
      " 0   reviewId              103500 non-null  object        \n",
      " 1   userName              103500 non-null  object        \n",
      " 2   userImage             103500 non-null  object        \n",
      " 3   content               103499 non-null  object        \n",
      " 4   score                 103500 non-null  int64         \n",
      " 5   thumbsUpCount         103500 non-null  int64         \n",
      " 6   reviewCreatedVersion  81993 non-null   object        \n",
      " 7   at                    103500 non-null  datetime64[ns]\n",
      " 8   replyContent          28869 non-null   object        \n",
      " 9   repliedAt             28869 non-null   datetime64[ns]\n",
      " 10  appVersion            81993 non-null   object        \n",
      "dtypes: datetime64[ns](2), int64(2), object(7)\n",
      "memory usage: 8.7+ MB\n"
     ]
    }
   ],
   "source": [
    "app_reviews_df.info()"
   ]
  },
  {
   "cell_type": "code",
   "execution_count": 9,
   "metadata": {
    "colab": {
     "base_uri": "https://localhost:8080/",
     "height": 668
    },
    "id": "nLy8mpwdss3C",
    "outputId": "a98ada6f-c408-46f6-d4e9-edd6ceafd8d7"
   },
   "outputs": [
    {
     "data": {
      "image/png": "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",
      "text/plain": [
       "<Figure size 1200x600 with 1 Axes>"
      ]
     },
     "metadata": {},
     "output_type": "display_data"
    }
   ],
   "source": [
    "#look for NaN values\n",
    "missing_values = app_reviews_df.isna().sum()\n",
    "\n",
    "\n",
    "plt.figure(figsize=(12, 6))\n",
    "missing_values.plot(kind='bar', color='coral')\n",
    "plt.title('Number of Missing Values per Column')\n",
    "plt.xlabel('Columns')\n",
    "plt.ylabel('Count of Missing Values')\n",
    "plt.xticks(rotation=45)\n",
    "plt.show()"
   ]
  },
  {
   "cell_type": "markdown",
   "metadata": {
    "id": "QVdpMnIwzslF"
   },
   "source": [
    "### Data Cleaning\n",
    "#### • We have around 160000 NaN/empty values, which means it's better that we drop that column\n",
    "#### • For reviewCreatedVersion and appVersion columns, we'll be imputing similiar values just to fill them up."
   ]
  },
  {
   "cell_type": "code",
   "execution_count": 10,
   "metadata": {
    "id": "BlqgmF8kzuAy"
   },
   "outputs": [],
   "source": [
    "#drop columns with alot of missing values\n",
    "app_reviews_df.drop(['replyContent', 'repliedAt'], axis=1, inplace=True)"
   ]
  },
  {
   "cell_type": "code",
   "execution_count": 11,
   "metadata": {
    "colab": {
     "base_uri": "https://localhost:8080/"
    },
    "id": "MECbatJo05gO",
    "outputId": "b18b6435-5a99-4aee-b514-0bdb0e84e22c"
   },
   "outputs": [
    {
     "name": "stdout",
     "output_type": "stream",
     "text": [
      "<class 'pandas.core.frame.DataFrame'>\n",
      "RangeIndex: 103500 entries, 0 to 103499\n",
      "Data columns (total 9 columns):\n",
      " #   Column                Non-Null Count   Dtype         \n",
      "---  ------                --------------   -----         \n",
      " 0   reviewId              103500 non-null  object        \n",
      " 1   userName              103500 non-null  object        \n",
      " 2   userImage             103500 non-null  object        \n",
      " 3   content               103499 non-null  object        \n",
      " 4   score                 103500 non-null  int64         \n",
      " 5   thumbsUpCount         103500 non-null  int64         \n",
      " 6   reviewCreatedVersion  81993 non-null   object        \n",
      " 7   at                    103500 non-null  datetime64[ns]\n",
      " 8   appVersion            81993 non-null   object        \n",
      "dtypes: datetime64[ns](1), int64(2), object(6)\n",
      "memory usage: 7.1+ MB\n"
     ]
    }
   ],
   "source": [
    "app_reviews_df.info()"
   ]
  },
  {
   "cell_type": "code",
   "execution_count": 12,
   "metadata": {
    "colab": {
     "base_uri": "https://localhost:8080/"
    },
    "id": "Oazs28dr0gKt",
    "outputId": "c9eeda8d-c6f4-4b29-aeb1-35b14d162944"
   },
   "outputs": [
    {
     "name": "stdout",
     "output_type": "stream",
     "text": [
      "reviewId                0\n",
      "userName                0\n",
      "userImage               0\n",
      "content                 1\n",
      "score                   0\n",
      "thumbsUpCount           0\n",
      "reviewCreatedVersion    0\n",
      "at                      0\n",
      "appVersion              0\n",
      "dtype: int64\n"
     ]
    }
   ],
   "source": [
    "#imput missing values\n",
    "most_frequent_version = app_reviews_df['appVersion'].mode()[0]\n",
    "app_reviews_df['reviewCreatedVersion'].fillna('Unknown', inplace=True)\n",
    "app_reviews_df['appVersion'].fillna(most_frequent_version, inplace=True)\n",
    "\n",
    "#check for null\n",
    "print(app_reviews_df.isna().sum())"
   ]
  },
  {
   "cell_type": "code",
   "execution_count": 13,
   "metadata": {
    "colab": {
     "base_uri": "https://localhost:8080/"
    },
    "id": "g-qFeMis0rJG",
    "outputId": "aeeb034c-ae93-4b93-bb60-2ed7eb9bc6a7"
   },
   "outputs": [
    {
     "name": "stdout",
     "output_type": "stream",
     "text": [
      "<class 'pandas.core.frame.DataFrame'>\n",
      "RangeIndex: 103500 entries, 0 to 103499\n",
      "Data columns (total 9 columns):\n",
      " #   Column                Non-Null Count   Dtype         \n",
      "---  ------                --------------   -----         \n",
      " 0   reviewId              103500 non-null  object        \n",
      " 1   userName              103500 non-null  object        \n",
      " 2   userImage             103500 non-null  object        \n",
      " 3   content               103499 non-null  object        \n",
      " 4   score                 103500 non-null  int64         \n",
      " 5   thumbsUpCount         103500 non-null  int64         \n",
      " 6   reviewCreatedVersion  103500 non-null  object        \n",
      " 7   at                    103500 non-null  datetime64[ns]\n",
      " 8   appVersion            103500 non-null  object        \n",
      "dtypes: datetime64[ns](1), int64(2), object(6)\n",
      "memory usage: 7.1+ MB\n"
     ]
    }
   ],
   "source": [
    "app_reviews_df.info()"
   ]
  },
  {
   "cell_type": "code",
   "execution_count": 14,
   "metadata": {
    "colab": {
     "base_uri": "https://localhost:8080/"
    },
    "id": "ehHQVbcH1kY6",
    "outputId": "9e001357-cf83-4055-aff5-87da503bc481"
   },
   "outputs": [
    {
     "name": "stdout",
     "output_type": "stream",
     "text": [
      "reviewId                0\n",
      "userName                0\n",
      "userImage               0\n",
      "content                 0\n",
      "score                   0\n",
      "thumbsUpCount           0\n",
      "reviewCreatedVersion    0\n",
      "at                      0\n",
      "appVersion              0\n",
      "dtype: int64\n"
     ]
    }
   ],
   "source": [
    "#Content column still has missing content, we can impute that\n",
    "app_reviews_df['content'].fillna('No Content', inplace=True)\n",
    "\n",
    "#Checking for any remaining missing values\n",
    "print(app_reviews_df.isna().sum())"
   ]
  },
  {
   "cell_type": "code",
   "execution_count": 15,
   "metadata": {
    "colab": {
     "base_uri": "https://localhost:8080/"
    },
    "id": "85KkDpPx1qph",
    "outputId": "fb022591-9005-461f-b7d3-9f0a4b5cccd5"
   },
   "outputs": [
    {
     "name": "stdout",
     "output_type": "stream",
     "text": [
      "<class 'pandas.core.frame.DataFrame'>\n",
      "RangeIndex: 103500 entries, 0 to 103499\n",
      "Data columns (total 9 columns):\n",
      " #   Column                Non-Null Count   Dtype         \n",
      "---  ------                --------------   -----         \n",
      " 0   reviewId              103500 non-null  object        \n",
      " 1   userName              103500 non-null  object        \n",
      " 2   userImage             103500 non-null  object        \n",
      " 3   content               103500 non-null  object        \n",
      " 4   score                 103500 non-null  int64         \n",
      " 5   thumbsUpCount         103500 non-null  int64         \n",
      " 6   reviewCreatedVersion  103500 non-null  object        \n",
      " 7   at                    103500 non-null  datetime64[ns]\n",
      " 8   appVersion            103500 non-null  object        \n",
      "dtypes: datetime64[ns](1), int64(2), object(6)\n",
      "memory usage: 7.1+ MB\n"
     ]
    }
   ],
   "source": [
    "#final check for data and info\n",
    "app_reviews_df.info()"
   ]
  },
  {
   "cell_type": "markdown",
   "metadata": {
    "id": "HOdKFSLM46l5"
   },
   "source": [
    "### Data Preprocessing\n",
    "#### • In this part, we'll be using a few functions from NLTK to preprocess and clean text data.\n",
    "#### • These functions will remove emojis, links, hashtags, mentions, remove stopwords, and convert all characters to lower case.\n",
    "\n",
    "#### • We'll be applying these functions into the review dataset."
   ]
  },
  {
   "cell_type": "code",
   "execution_count": 16,
   "metadata": {
    "id": "lUOGeDJG5Wh_"
   },
   "outputs": [],
   "source": [
    "#initialize stemmer\n",
    "stemmer = PorterStemmer()\n",
    "\n",
    "def cleaningText(text):\n",
    "    #remove mentions\n",
    "    text = re.sub(r'@[A-Za-z0-9]+', '', text)\n",
    "    #remove hashtags\n",
    "    text = re.sub(r'#[A-Za-z0-9]+', '', text)\n",
    "    #remove links\n",
    "    text = re.sub(r'http\\S+', '', text)\n",
    "    #remove numbers\n",
    "    text = re.sub(r'[0-9]+', '', text)\n",
    "    text = text.replace('\\n', ' ')\n",
    "    #Remove punctuation\n",
    "    text = text.translate(str.maketrans('', '', string.punctuation))\n",
    "    #Remove leading and trailing spaces\n",
    "    text = text.strip(' ')\n",
    "    return text\n",
    "\n",
    "def casefoldingText(text):\n",
    "    #converts all characters to lower case\n",
    "    return text.lower()\n",
    "def tokenizingText(text):\n",
    "    return word_tokenize(text)\n",
    "def filteringText(text):\n",
    "    #Get English stopwords\n",
    "    listStopwords = set(stopwords.words('english'))\n",
    "    #Remove stopwords\n",
    "    filtered = [word for word in text if word not in listStopwords]\n",
    "    return filtered\n",
    "def stemmingText(text):\n",
    "    #Stemming each word in the text\n",
    "    stemmed_words = [stemmer.stem(word) for word in text]\n",
    "    return ' '.join(stemmed_words)\n",
    "def toSentence(list_words):\n",
    "    #Convert list of words into a sentence\n",
    "    return ' '.join(list_words)"
   ]
  },
  {
   "cell_type": "code",
   "execution_count": 17,
   "metadata": {
    "colab": {
     "base_uri": "https://localhost:8080/",
     "height": 597
    },
    "id": "-RCro1Cl6nWA",
    "outputId": "dca68f0b-3d81-45d7-d595-0d3beeb8aecd"
   },
   "outputs": [
    {
     "data": {
      "text/html": [
       "<div>\n",
       "<style scoped>\n",
       "    .dataframe tbody tr th:only-of-type {\n",
       "        vertical-align: middle;\n",
       "    }\n",
       "\n",
       "    .dataframe tbody tr th {\n",
       "        vertical-align: top;\n",
       "    }\n",
       "\n",
       "    .dataframe thead th {\n",
       "        text-align: right;\n",
       "    }\n",
       "</style>\n",
       "<table border=\"1\" class=\"dataframe\">\n",
       "  <thead>\n",
       "    <tr style=\"text-align: right;\">\n",
       "      <th></th>\n",
       "      <th>reviewId</th>\n",
       "      <th>userName</th>\n",
       "      <th>userImage</th>\n",
       "      <th>content</th>\n",
       "      <th>score</th>\n",
       "      <th>thumbsUpCount</th>\n",
       "      <th>reviewCreatedVersion</th>\n",
       "      <th>at</th>\n",
       "      <th>appVersion</th>\n",
       "    </tr>\n",
       "  </thead>\n",
       "  <tbody>\n",
       "    <tr>\n",
       "      <th>0</th>\n",
       "      <td>1a054ac6-4bc1-427c-a5e9-2ff3024b2e25</td>\n",
       "      <td>A Google user</td>\n",
       "      <td>https://play-lh.googleusercontent.com/EGemoI2N...</td>\n",
       "      <td>It's an app I got for a show, but I fell in lo...</td>\n",
       "      <td>4</td>\n",
       "      <td>9</td>\n",
       "      <td>3.68.0</td>\n",
       "      <td>2024-10-30 23:00:42</td>\n",
       "      <td>3.68.0</td>\n",
       "    </tr>\n",
       "    <tr>\n",
       "      <th>1</th>\n",
       "      <td>a0484458-d632-4fd9-ad51-ceb5c0e5adda</td>\n",
       "      <td>A Google user</td>\n",
       "      <td>https://play-lh.googleusercontent.com/EGemoI2N...</td>\n",
       "      <td>I've been a premium member since 2020. The app...</td>\n",
       "      <td>3</td>\n",
       "      <td>5</td>\n",
       "      <td>3.68.0</td>\n",
       "      <td>2024-10-29 09:58:58</td>\n",
       "      <td>3.68.0</td>\n",
       "    </tr>\n",
       "    <tr>\n",
       "      <th>2</th>\n",
       "      <td>aa89abbf-1096-4bd3-992f-d8533d80ed54</td>\n",
       "      <td>A Google user</td>\n",
       "      <td>https://play-lh.googleusercontent.com/EGemoI2N...</td>\n",
       "      <td>Ton of glitches, the subs aren't available on ...</td>\n",
       "      <td>1</td>\n",
       "      <td>23</td>\n",
       "      <td>3.68.0</td>\n",
       "      <td>2024-10-21 15:50:30</td>\n",
       "      <td>3.68.0</td>\n",
       "    </tr>\n",
       "    <tr>\n",
       "      <th>3</th>\n",
       "      <td>c9374b1a-9da1-4c1d-9435-e334b5bf939b</td>\n",
       "      <td>A Google user</td>\n",
       "      <td>https://play-lh.googleusercontent.com/EGemoI2N...</td>\n",
       "      <td>The app is fairly standard, UI is easy to navi...</td>\n",
       "      <td>3</td>\n",
       "      <td>12</td>\n",
       "      <td>3.67.2</td>\n",
       "      <td>2024-10-14 02:25:56</td>\n",
       "      <td>3.67.2</td>\n",
       "    </tr>\n",
       "    <tr>\n",
       "      <th>4</th>\n",
       "      <td>318e4c7e-dd13-4e02-9ae9-2dc6a272c976</td>\n",
       "      <td>A Google user</td>\n",
       "      <td>https://play-lh.googleusercontent.com/EGemoI2N...</td>\n",
       "      <td>Literally one of the worst streaming services ...</td>\n",
       "      <td>1</td>\n",
       "      <td>47</td>\n",
       "      <td>3.68.0</td>\n",
       "      <td>2024-10-27 14:40:59</td>\n",
       "      <td>3.68.0</td>\n",
       "    </tr>\n",
       "    <tr>\n",
       "      <th>...</th>\n",
       "      <td>...</td>\n",
       "      <td>...</td>\n",
       "      <td>...</td>\n",
       "      <td>...</td>\n",
       "      <td>...</td>\n",
       "      <td>...</td>\n",
       "      <td>...</td>\n",
       "      <td>...</td>\n",
       "      <td>...</td>\n",
       "    </tr>\n",
       "    <tr>\n",
       "      <th>103495</th>\n",
       "      <td>8511ece2-a634-4925-8b04-5b7dc2f13c53</td>\n",
       "      <td>A Google user</td>\n",
       "      <td>https://play-lh.googleusercontent.com/EGemoI2N...</td>\n",
       "      <td>nice</td>\n",
       "      <td>5</td>\n",
       "      <td>0</td>\n",
       "      <td>3.68.0</td>\n",
       "      <td>2024-10-18 11:34:56</td>\n",
       "      <td>3.68.0</td>\n",
       "    </tr>\n",
       "    <tr>\n",
       "      <th>103496</th>\n",
       "      <td>6374102f-200c-44bf-86c0-7c4dfc334da5</td>\n",
       "      <td>A Google user</td>\n",
       "      <td>https://play-lh.googleusercontent.com/EGemoI2N...</td>\n",
       "      <td>good</td>\n",
       "      <td>5</td>\n",
       "      <td>0</td>\n",
       "      <td>3.68.0</td>\n",
       "      <td>2024-10-24 20:48:43</td>\n",
       "      <td>3.68.0</td>\n",
       "    </tr>\n",
       "    <tr>\n",
       "      <th>103497</th>\n",
       "      <td>b520f7fa-ad1f-45b4-8b3c-afc483ff3c8d</td>\n",
       "      <td>A Google user</td>\n",
       "      <td>https://play-lh.googleusercontent.com/EGemoI2N...</td>\n",
       "      <td>nice</td>\n",
       "      <td>5</td>\n",
       "      <td>0</td>\n",
       "      <td>3.68.0</td>\n",
       "      <td>2024-10-18 00:53:08</td>\n",
       "      <td>3.68.0</td>\n",
       "    </tr>\n",
       "    <tr>\n",
       "      <th>103498</th>\n",
       "      <td>248b0e6a-93b3-40b7-8361-baf509ee4abe</td>\n",
       "      <td>A Google user</td>\n",
       "      <td>https://play-lh.googleusercontent.com/EGemoI2N...</td>\n",
       "      <td>Loved it</td>\n",
       "      <td>5</td>\n",
       "      <td>0</td>\n",
       "      <td>3.68.0</td>\n",
       "      <td>2024-10-18 18:52:41</td>\n",
       "      <td>3.68.0</td>\n",
       "    </tr>\n",
       "    <tr>\n",
       "      <th>103499</th>\n",
       "      <td>ef61ba54-0e1f-4b19-ad2f-44ccefe786c4</td>\n",
       "      <td>A Google user</td>\n",
       "      <td>https://play-lh.googleusercontent.com/EGemoI2N...</td>\n",
       "      <td>good</td>\n",
       "      <td>5</td>\n",
       "      <td>0</td>\n",
       "      <td>3.68.0</td>\n",
       "      <td>2024-10-23 11:17:08</td>\n",
       "      <td>3.68.0</td>\n",
       "    </tr>\n",
       "  </tbody>\n",
       "</table>\n",
       "<p>103500 rows × 9 columns</p>\n",
       "</div>"
      ],
      "text/plain": [
       "                                    reviewId       userName  \\\n",
       "0       1a054ac6-4bc1-427c-a5e9-2ff3024b2e25  A Google user   \n",
       "1       a0484458-d632-4fd9-ad51-ceb5c0e5adda  A Google user   \n",
       "2       aa89abbf-1096-4bd3-992f-d8533d80ed54  A Google user   \n",
       "3       c9374b1a-9da1-4c1d-9435-e334b5bf939b  A Google user   \n",
       "4       318e4c7e-dd13-4e02-9ae9-2dc6a272c976  A Google user   \n",
       "...                                      ...            ...   \n",
       "103495  8511ece2-a634-4925-8b04-5b7dc2f13c53  A Google user   \n",
       "103496  6374102f-200c-44bf-86c0-7c4dfc334da5  A Google user   \n",
       "103497  b520f7fa-ad1f-45b4-8b3c-afc483ff3c8d  A Google user   \n",
       "103498  248b0e6a-93b3-40b7-8361-baf509ee4abe  A Google user   \n",
       "103499  ef61ba54-0e1f-4b19-ad2f-44ccefe786c4  A Google user   \n",
       "\n",
       "                                                userImage  \\\n",
       "0       https://play-lh.googleusercontent.com/EGemoI2N...   \n",
       "1       https://play-lh.googleusercontent.com/EGemoI2N...   \n",
       "2       https://play-lh.googleusercontent.com/EGemoI2N...   \n",
       "3       https://play-lh.googleusercontent.com/EGemoI2N...   \n",
       "4       https://play-lh.googleusercontent.com/EGemoI2N...   \n",
       "...                                                   ...   \n",
       "103495  https://play-lh.googleusercontent.com/EGemoI2N...   \n",
       "103496  https://play-lh.googleusercontent.com/EGemoI2N...   \n",
       "103497  https://play-lh.googleusercontent.com/EGemoI2N...   \n",
       "103498  https://play-lh.googleusercontent.com/EGemoI2N...   \n",
       "103499  https://play-lh.googleusercontent.com/EGemoI2N...   \n",
       "\n",
       "                                                  content  score  \\\n",
       "0       It's an app I got for a show, but I fell in lo...      4   \n",
       "1       I've been a premium member since 2020. The app...      3   \n",
       "2       Ton of glitches, the subs aren't available on ...      1   \n",
       "3       The app is fairly standard, UI is easy to navi...      3   \n",
       "4       Literally one of the worst streaming services ...      1   \n",
       "...                                                   ...    ...   \n",
       "103495                                               nice      5   \n",
       "103496                                               good      5   \n",
       "103497                                               nice      5   \n",
       "103498                                           Loved it      5   \n",
       "103499                                               good      5   \n",
       "\n",
       "        thumbsUpCount reviewCreatedVersion                  at appVersion  \n",
       "0                   9               3.68.0 2024-10-30 23:00:42     3.68.0  \n",
       "1                   5               3.68.0 2024-10-29 09:58:58     3.68.0  \n",
       "2                  23               3.68.0 2024-10-21 15:50:30     3.68.0  \n",
       "3                  12               3.67.2 2024-10-14 02:25:56     3.67.2  \n",
       "4                  47               3.68.0 2024-10-27 14:40:59     3.68.0  \n",
       "...               ...                  ...                 ...        ...  \n",
       "103495              0               3.68.0 2024-10-18 11:34:56     3.68.0  \n",
       "103496              0               3.68.0 2024-10-24 20:48:43     3.68.0  \n",
       "103497              0               3.68.0 2024-10-18 00:53:08     3.68.0  \n",
       "103498              0               3.68.0 2024-10-18 18:52:41     3.68.0  \n",
       "103499              0               3.68.0 2024-10-23 11:17:08     3.68.0  \n",
       "\n",
       "[103500 rows x 9 columns]"
      ]
     },
     "execution_count": 17,
     "metadata": {},
     "output_type": "execute_result"
    }
   ],
   "source": [
    "app_reviews_df"
   ]
  },
  {
   "cell_type": "code",
   "execution_count": 18,
   "metadata": {
    "colab": {
     "base_uri": "https://localhost:8080/"
    },
    "id": "Nurxfawd6wPa",
    "outputId": "df39cb73-739c-438d-8a17-0daa2c91e833"
   },
   "outputs": [
    {
     "name": "stdout",
     "output_type": "stream",
     "text": [
      "                                             content  \\\n",
      "0  It's an app I got for a show, but I fell in lo...   \n",
      "1  I've been a premium member since 2020. The app...   \n",
      "2  Ton of glitches, the subs aren't available on ...   \n",
      "3  The app is fairly standard, UI is easy to navi...   \n",
      "4  Literally one of the worst streaming services ...   \n",
      "\n",
      "                                          text_clean  \\\n",
      "0  Its an app I got for a show but I fell in love...   \n",
      "1  Ive been a premium member since  The app works...   \n",
      "2  Ton of glitches the subs arent available on a ...   \n",
      "3  The app is fairly standard UI is easy to navig...   \n",
      "4  Literally one of the worst streaming services ...   \n",
      "\n",
      "                                text_casefoldingText  \\\n",
      "0  its an app i got for a show but i fell in love...   \n",
      "1  ive been a premium member since  the app works...   \n",
      "2  ton of glitches the subs arent available on a ...   \n",
      "3  the app is fairly standard ui is easy to navig...   \n",
      "4  literally one of the worst streaming services ...   \n",
      "\n",
      "                                 text_tokenizingText  \\\n",
      "0  [its, an, app, i, got, for, a, show, but, i, f...   \n",
      "1  [ive, been, a, premium, member, since, the, ap...   \n",
      "2  [ton, of, glitches, the, subs, arent, availabl...   \n",
      "3  [the, app, is, fairly, standard, ui, is, easy,...   \n",
      "4  [literally, one, of, the, worst, streaming, se...   \n",
      "\n",
      "                                       text_stopword  \\\n",
      "0  [app, got, show, fell, love, store, found, tod...   \n",
      "1  [ive, premium, member, since, app, works, fine...   \n",
      "2  [ton, glitches, subs, arent, available, large,...   \n",
      "3  [app, fairly, standard, ui, easy, navigate, re...   \n",
      "4  [literally, one, worst, streaming, services, i...   \n",
      "\n",
      "                                          text_final  \n",
      "0  app got show fell love store found today crunc...  \n",
      "1  ive premium member since app works fine decent...  \n",
      "2  ton glitches subs arent available large amount...  \n",
      "3  app fairly standard ui easy navigate reason ap...  \n",
      "4  literally one worst streaming services ive eve...  \n"
     ]
    }
   ],
   "source": [
    "#Clean the dataframe using pre-processing functions\n",
    "app_reviews_df['text_clean'] = app_reviews_df['content'].apply(cleaningText)\n",
    "\n",
    "#turning text into lowercase\n",
    "app_reviews_df['text_casefoldingText'] = app_reviews_df['text_clean'].apply(casefoldingText)\n",
    "\n",
    "#split text into tokens\n",
    "app_reviews_df['text_tokenizingText'] = app_reviews_df['text_casefoldingText'].apply(tokenizingText)\n",
    "\n",
    "#filter and remove stopwords\n",
    "app_reviews_df['text_stopword'] = app_reviews_df['text_tokenizingText'].apply(filteringText)\n",
    "\n",
    "#combining tokens and saving it as a text_final variable.\n",
    "app_reviews_df['text_final'] = app_reviews_df['text_stopword'].apply(toSentence)\n",
    "\n",
    "#Check the first few rows of the DataFrame to see the cleaned and processed text\n",
    "print(app_reviews_df[['content', 'text_clean', 'text_casefoldingText',  'text_tokenizingText', 'text_stopword', 'text_final']].head())\n"
   ]
  },
  {
   "cell_type": "markdown",
   "metadata": {
    "id": "UnpXw1r45Oze"
   },
   "source": [
    "### Data Fetching & Labelling\n",
    "#### • Here, we will fetch a lexicon txt dataset that can be used for data labeling.\n",
    "#### • The dataset will be labeled with 3 different sentiments, which are positive, neutral, and negative. These emotions are based on a function that will calculate a score.\n",
    "#### • Then we also need to visualize our labeled data to see if it is balanced or not."
   ]
  },
  {
   "cell_type": "code",
   "execution_count": 19,
   "metadata": {
    "id": "kk8YIAgdNrrp"
   },
   "outputs": [],
   "source": [
    "#Data Labelling\n",
    "import requests\n",
    "from io import StringIO\n",
    "\n",
    "#Increase the limit to 1,000,000 characters\n",
    "csv.field_size_limit(1000000)\n",
    "\n",
    "#Load positive lexicon data from URL\n",
    "lexicon_positive = dict()\n",
    "response = requests.get('https://raw.githubusercontent.com/shekhargulati/sentiment-analysis-python/master/opinion-lexicon-English/positive-words.txt')\n",
    "\n",
    "if response.status_code == 200:\n",
    "    #Use splitlines instead of csv.reader to handle the data\n",
    "    for line in response.text.splitlines():\n",
    "        word = line.strip()\n",
    "        #Check if the word is not empty\n",
    "        if word:\n",
    "            lexicon_positive[word] = 1\n",
    "else:\n",
    "    print(\"Failed to fetch positive lexicon data\")\n",
    "\n",
    "#Load negative lexicon data from a URL\n",
    "lexicon_negative = dict()\n",
    "response = requests.get('https://raw.githubusercontent.com/shekhargulati/sentiment-analysis-python/master/opinion-lexicon-English/negative-words.txt')\n",
    "\n",
    "if response.status_code == 200:\n",
    "\n",
    "    for line in response.text.splitlines():\n",
    "        word = line.strip()\n",
    "        if word:\n",
    "            lexicon_negative[word] = -1\n",
    "else:\n",
    "    print(\"Failed to fetch negative lexicon data\")\n",
    "\n",
    "#declare sentiment analysis lexicon\n",
    "def sentiment_analysis_lexicon(text):\n",
    "    score = 0\n",
    "\n",
    "    #Calculate the score based on positive and negative words\n",
    "    for word in text:\n",
    "        if word in lexicon_positive:\n",
    "            score += lexicon_positive[word]\n",
    "    for word in text:\n",
    "        if (word in lexicon_negative):\n",
    "            score += lexicon_negative[word]\n",
    "\n",
    "    #Determine polarity based on score\n",
    "    polarity = ' '\n",
    "    if score > 0:\n",
    "        polarity = 'positive'\n",
    "    elif score < 0:\n",
    "        polarity = 'negative'\n",
    "    else:\n",
    "        polarity = 'neutral'\n",
    "    return score, polarity"
   ]
  },
  {
   "cell_type": "code",
   "execution_count": 20,
   "metadata": {
    "colab": {
     "base_uri": "https://localhost:8080/"
    },
    "id": "gKSkdbNh-h9B",
    "outputId": "0cd773cd-a589-4b1b-9220-e0bb28b26186"
   },
   "outputs": [
    {
     "name": "stdout",
     "output_type": "stream",
     "text": [
      "polarity\n",
      "positive    48080\n",
      "neutral     30889\n",
      "negative    24531\n",
      "Name: count, dtype: int64\n"
     ]
    }
   ],
   "source": [
    "#apply sentiment analysis to pre-processed text column\n",
    "results = app_reviews_df['text_stopword'].apply(sentiment_analysis_lexicon)\n",
    "results = list(zip(*results))\n",
    "app_reviews_df['polarity_score'] = results[0]\n",
    "app_reviews_df['polarity'] = results[1]\n",
    "\n",
    "#Print the value counts for each polarity\n",
    "print(app_reviews_df['polarity'].value_counts())\n"
   ]
  },
  {
   "cell_type": "code",
   "execution_count": 21,
   "metadata": {
    "colab": {
     "base_uri": "https://localhost:8080/",
     "height": 542
    },
    "id": "brhiqqZUsUKg",
    "outputId": "95d3b8a7-e5fe-49b3-cc5e-b4557cdebe78"
   },
   "outputs": [
    {
     "data": {
      "image/png": "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",
      "text/plain": [
       "<Figure size 600x600 with 1 Axes>"
      ]
     },
     "metadata": {},
     "output_type": "display_data"
    }
   ],
   "source": [
    "#Plotting sentiment polarity\n",
    "fig, ax = plt.subplots(figsize=(6, 6))\n",
    "sizes = [count for count in app_reviews_df['polarity'].value_counts()]\n",
    "labels = list(app_reviews_df['polarity'].value_counts().index)\n",
    "\n",
    "#pie chart\n",
    "ax.pie(x=sizes, labels=labels, autopct='%1.1f%%',  textprops={'fontsize': 16})\n",
    "ax.set_title('Sentiment Polarity on CruncyRoll App Reviews', fontsize=16, pad=20)\n",
    "plt.show()"
   ]
  },
  {
   "cell_type": "code",
   "execution_count": 22,
   "metadata": {
    "colab": {
     "base_uri": "https://localhost:8080/",
     "height": 564
    },
    "id": "Iwi0GzgbuANM",
    "outputId": "759ecb98-d4dd-4b0d-e30b-499e39bdbff5"
   },
   "outputs": [
    {
     "data": {
      "image/png": "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",
      "text/plain": [
       "<Figure size 1000x600 with 1 Axes>"
      ]
     },
     "metadata": {},
     "output_type": "display_data"
    }
   ],
   "source": [
    "plt.figure(figsize=(10, 6))\n",
    "\n",
    "#Check for class distribution\n",
    "class_dist_plot = sns.countplot(x='polarity', data=app_reviews_df, hue= 'polarity', palette = \"magma\")\n",
    "plt.title('Class Distribution of Sentiment Polarity')\n",
    "\n",
    "#Add counts above the bars on the plot\n",
    "for p in class_dist_plot.patches:\n",
    "    class_dist_plot.annotate(format(p.get_height(), '.0f'),\n",
    "                              (p.get_x() + p.get_width() / 2., p.get_height()),\n",
    "                              ha='center', va='center',\n",
    "                              xytext=(0, 10),\n",
    "                              textcoords='offset points')\n",
    "\n",
    "plt.xlabel('Sentiment Polarity')\n",
    "plt.ylabel('Number of Reviews')\n",
    "plt.show()"
   ]
  },
  {
   "cell_type": "markdown",
   "metadata": {
    "id": "v3Z6v3ho0iGB"
   },
   "source": [
    "### Data Splitting & Feature Extraction\n",
    "#### • In this part, we'll use TFIDF to execute the feature extraction process.\n",
    "#### • Then, those features will be converted into a dataframe.\n",
    "#### • The data will be split into 70% training and 30% testing."
   ]
  },
  {
   "cell_type": "code",
   "execution_count": 23,
   "metadata": {
    "colab": {
     "base_uri": "https://localhost:8080/",
     "height": 441
    },
    "id": "d8n3gNc21yUa",
    "outputId": "757d37bd-d65e-49b1-cc44-3f788eab338b"
   },
   "outputs": [
    {
     "data": {
      "text/html": [
       "<div>\n",
       "<style scoped>\n",
       "    .dataframe tbody tr th:only-of-type {\n",
       "        vertical-align: middle;\n",
       "    }\n",
       "\n",
       "    .dataframe tbody tr th {\n",
       "        vertical-align: top;\n",
       "    }\n",
       "\n",
       "    .dataframe thead th {\n",
       "        text-align: right;\n",
       "    }\n",
       "</style>\n",
       "<table border=\"1\" class=\"dataframe\">\n",
       "  <thead>\n",
       "    <tr style=\"text-align: right;\">\n",
       "      <th></th>\n",
       "      <th>reviewId</th>\n",
       "      <th>userName</th>\n",
       "      <th>userImage</th>\n",
       "      <th>content</th>\n",
       "      <th>score</th>\n",
       "      <th>thumbsUpCount</th>\n",
       "      <th>reviewCreatedVersion</th>\n",
       "      <th>at</th>\n",
       "      <th>appVersion</th>\n",
       "      <th>text_clean</th>\n",
       "      <th>text_casefoldingText</th>\n",
       "      <th>text_tokenizingText</th>\n",
       "      <th>text_stopword</th>\n",
       "      <th>text_final</th>\n",
       "      <th>polarity_score</th>\n",
       "      <th>polarity</th>\n",
       "    </tr>\n",
       "  </thead>\n",
       "  <tbody>\n",
       "    <tr>\n",
       "      <th>0</th>\n",
       "      <td>1a054ac6-4bc1-427c-a5e9-2ff3024b2e25</td>\n",
       "      <td>A Google user</td>\n",
       "      <td>https://play-lh.googleusercontent.com/EGemoI2N...</td>\n",
       "      <td>It's an app I got for a show, but I fell in lo...</td>\n",
       "      <td>4</td>\n",
       "      <td>9</td>\n",
       "      <td>3.68.0</td>\n",
       "      <td>2024-10-30 23:00:42</td>\n",
       "      <td>3.68.0</td>\n",
       "      <td>Its an app I got for a show but I fell in love...</td>\n",
       "      <td>its an app i got for a show but i fell in love...</td>\n",
       "      <td>[its, an, app, i, got, for, a, show, but, i, f...</td>\n",
       "      <td>[app, got, show, fell, love, store, found, tod...</td>\n",
       "      <td>app got show fell love store found today crunc...</td>\n",
       "      <td>2</td>\n",
       "      <td>positive</td>\n",
       "    </tr>\n",
       "    <tr>\n",
       "      <th>1</th>\n",
       "      <td>a0484458-d632-4fd9-ad51-ceb5c0e5adda</td>\n",
       "      <td>A Google user</td>\n",
       "      <td>https://play-lh.googleusercontent.com/EGemoI2N...</td>\n",
       "      <td>I've been a premium member since 2020. The app...</td>\n",
       "      <td>3</td>\n",
       "      <td>5</td>\n",
       "      <td>3.68.0</td>\n",
       "      <td>2024-10-29 09:58:58</td>\n",
       "      <td>3.68.0</td>\n",
       "      <td>Ive been a premium member since  The app works...</td>\n",
       "      <td>ive been a premium member since  the app works...</td>\n",
       "      <td>[ive, been, a, premium, member, since, the, ap...</td>\n",
       "      <td>[ive, premium, member, since, app, works, fine...</td>\n",
       "      <td>ive premium member since app works fine decent...</td>\n",
       "      <td>2</td>\n",
       "      <td>positive</td>\n",
       "    </tr>\n",
       "    <tr>\n",
       "      <th>2</th>\n",
       "      <td>aa89abbf-1096-4bd3-992f-d8533d80ed54</td>\n",
       "      <td>A Google user</td>\n",
       "      <td>https://play-lh.googleusercontent.com/EGemoI2N...</td>\n",
       "      <td>Ton of glitches, the subs aren't available on ...</td>\n",
       "      <td>1</td>\n",
       "      <td>23</td>\n",
       "      <td>3.68.0</td>\n",
       "      <td>2024-10-21 15:50:30</td>\n",
       "      <td>3.68.0</td>\n",
       "      <td>Ton of glitches the subs arent available on a ...</td>\n",
       "      <td>ton of glitches the subs arent available on a ...</td>\n",
       "      <td>[ton, of, glitches, the, subs, arent, availabl...</td>\n",
       "      <td>[ton, glitches, subs, arent, available, large,...</td>\n",
       "      <td>ton glitches subs arent available large amount...</td>\n",
       "      <td>-1</td>\n",
       "      <td>negative</td>\n",
       "    </tr>\n",
       "  </tbody>\n",
       "</table>\n",
       "</div>"
      ],
      "text/plain": [
       "                               reviewId       userName  \\\n",
       "0  1a054ac6-4bc1-427c-a5e9-2ff3024b2e25  A Google user   \n",
       "1  a0484458-d632-4fd9-ad51-ceb5c0e5adda  A Google user   \n",
       "2  aa89abbf-1096-4bd3-992f-d8533d80ed54  A Google user   \n",
       "\n",
       "                                           userImage  \\\n",
       "0  https://play-lh.googleusercontent.com/EGemoI2N...   \n",
       "1  https://play-lh.googleusercontent.com/EGemoI2N...   \n",
       "2  https://play-lh.googleusercontent.com/EGemoI2N...   \n",
       "\n",
       "                                             content  score  thumbsUpCount  \\\n",
       "0  It's an app I got for a show, but I fell in lo...      4              9   \n",
       "1  I've been a premium member since 2020. The app...      3              5   \n",
       "2  Ton of glitches, the subs aren't available on ...      1             23   \n",
       "\n",
       "  reviewCreatedVersion                  at appVersion  \\\n",
       "0               3.68.0 2024-10-30 23:00:42     3.68.0   \n",
       "1               3.68.0 2024-10-29 09:58:58     3.68.0   \n",
       "2               3.68.0 2024-10-21 15:50:30     3.68.0   \n",
       "\n",
       "                                          text_clean  \\\n",
       "0  Its an app I got for a show but I fell in love...   \n",
       "1  Ive been a premium member since  The app works...   \n",
       "2  Ton of glitches the subs arent available on a ...   \n",
       "\n",
       "                                text_casefoldingText  \\\n",
       "0  its an app i got for a show but i fell in love...   \n",
       "1  ive been a premium member since  the app works...   \n",
       "2  ton of glitches the subs arent available on a ...   \n",
       "\n",
       "                                 text_tokenizingText  \\\n",
       "0  [its, an, app, i, got, for, a, show, but, i, f...   \n",
       "1  [ive, been, a, premium, member, since, the, ap...   \n",
       "2  [ton, of, glitches, the, subs, arent, availabl...   \n",
       "\n",
       "                                       text_stopword  \\\n",
       "0  [app, got, show, fell, love, store, found, tod...   \n",
       "1  [ive, premium, member, since, app, works, fine...   \n",
       "2  [ton, glitches, subs, arent, available, large,...   \n",
       "\n",
       "                                          text_final  polarity_score  polarity  \n",
       "0  app got show fell love store found today crunc...               2  positive  \n",
       "1  ive premium member since app works fine decent...               2  positive  \n",
       "2  ton glitches subs arent available large amount...              -1  negative  "
      ]
     },
     "execution_count": 23,
     "metadata": {},
     "output_type": "execute_result"
    }
   ],
   "source": [
    "app_reviews_df.head(3)"
   ]
  },
  {
   "cell_type": "code",
   "execution_count": 24,
   "metadata": {
    "colab": {
     "base_uri": "https://localhost:8080/"
    },
    "id": "kmFJlcK-0kNK",
    "outputId": "bbbdcd8f-440a-43fb-8cc8-03e6c7706212"
   },
   "outputs": [
    {
     "name": "stdout",
     "output_type": "stream",
     "text": [
      "    aa  aap  ability  abit  able  absolute  absolutely  absorbed  absurd  abt  \\\n",
      "0  0.0  0.0      0.0   0.0   0.0       0.0         0.0       0.0     0.0  0.0   \n",
      "1  0.0  0.0      0.0   0.0   0.0       0.0         0.0       0.0     0.0  0.0   \n",
      "2  0.0  0.0      0.0   0.0   0.0       0.0         0.0       0.0     0.0  0.0   \n",
      "3  0.0  0.0      0.0   0.0   0.0       0.0         0.0       0.0     0.0  0.0   \n",
      "4  0.0  0.0      0.0   0.0   0.0       0.0         0.0       0.0     0.0  0.0   \n",
      "\n",
      "   ...  youve  yrs   yt   yu  yugioh  yuri  zero  zoom  zoro  zoroto  \n",
      "0  ...    0.0  0.0  0.0  0.0     0.0   0.0   0.0   0.0   0.0     0.0  \n",
      "1  ...    0.0  0.0  0.0  0.0     0.0   0.0   0.0   0.0   0.0     0.0  \n",
      "2  ...    0.0  0.0  0.0  0.0     0.0   0.0   0.0   0.0   0.0     0.0  \n",
      "3  ...    0.0  0.0  0.0  0.0     0.0   0.0   0.0   0.0   0.0     0.0  \n",
      "4  ...    0.0  0.0  0.0  0.0     0.0   0.0   0.0   0.0   0.0     0.0  \n",
      "\n",
      "[5 rows x 3421 columns]\n"
     ]
    }
   ],
   "source": [
    "import pickle\n",
    "\n",
    "\n",
    "\n",
    "#Split data into features and labels.\n",
    "X = app_reviews_df['text_final']\n",
    "y = app_reviews_df['polarity']\n",
    "\n",
    "#extract features using TF-IDF\n",
    "tfidf = TfidfVectorizer(max_features=4000, min_df=17, max_df=0.8)\n",
    "X_tfidf = tfidf.fit_transform(X)\n",
    "\n",
    "\n",
    "# Save the vectorizer\n",
    "with open(\"tfidf_vectorizer.pkl\", \"wb\") as file:\n",
    "    pickle.dump(tfidf, file)\n",
    "\n",
    "\n",
    "#convert features into dataframe\n",
    "features_df = pd.DataFrame(X_tfidf.toarray(), columns=tfidf.get_feature_names_out())\n",
    "\n",
    "#check feature dataframe\n",
    "print(features_df.head())"
   ]
  },
  {
   "cell_type": "code",
   "execution_count": 25,
   "metadata": {
    "colab": {
     "base_uri": "https://localhost:8080/"
    },
    "id": "F5ac-Uca1-lF",
    "outputId": "06bcbbe0-c05f-4522-f9a3-ab739d18e80d"
   },
   "outputs": [
    {
     "name": "stdout",
     "output_type": "stream",
     "text": [
      "Training data shape: (72450, 3421), Training labels shape: (72450,)\n",
      "Test data shape: (31050, 3421), Test labels shape: (31050,)\n"
     ]
    }
   ],
   "source": [
    "#split data into training and testing sets\n",
    "X_train, X_test, y_train, y_test = train_test_split(X_tfidf, y, test_size=0.3, random_state=42)\n",
    "\n",
    "#check for shapes of sets\n",
    "print(f\"Training data shape: {X_train.shape}, Training labels shape: {y_train.shape}\")\n",
    "print(f\"Test data shape: {X_test.shape}, Test labels shape: {y_test.shape}\")"
   ]
  },
  {
   "cell_type": "markdown",
   "metadata": {
    "id": "RbQ4MvjS6eiS"
   },
   "source": [
    "### Machine Learning  Process\n",
    "#### Here, we'll test a few models such as:\n",
    "#### • Random Forest\n",
    "#### • Logistic Regression\n",
    "\n",
    "\n",
    "#### Random Forest Model:"
   ]
  },
  {
   "cell_type": "code",
   "execution_count": 26,
   "metadata": {
    "colab": {
     "base_uri": "https://localhost:8080/"
    },
    "id": "MeM5YpIq5nMG",
    "outputId": "63ffa24f-f803-486a-bd5b-ce13de5ed125"
   },
   "outputs": [
    {
     "name": "stdout",
     "output_type": "stream",
     "text": [
      "Random Forest - Training Accuracy: 0.9981366459627329\n",
      "Random Forest - Test Accuracy: 0.8348470209339774\n"
     ]
    }
   ],
   "source": [
    "#Random Forest Model\n",
    "random_forest = RandomForestClassifier(\n",
    "    random_state=42\n",
    "    )\n",
    "random_forest.fit(X_train.toarray(), y_train)\n",
    "y_pred_train_rf = random_forest.predict(X_train.toarray())\n",
    "y_pred_test_rf = random_forest.predict(X_test.toarray())\n",
    "\n",
    "accuracy_train_rf = accuracy_score(y_train, y_pred_train_rf)\n",
    "accuracy_test_rf = accuracy_score(y_test, y_pred_test_rf)\n",
    "\n",
    "print('Random Forest - Training Accuracy:', accuracy_train_rf)\n",
    "print('Random Forest - Test Accuracy:', accuracy_test_rf)"
   ]
  },
  {
   "cell_type": "markdown",
   "metadata": {
    "id": "7Jibx8TJpvI6"
   },
   "source": [
    "#### Logistic Regression Model:"
   ]
  },
  {
   "cell_type": "code",
   "execution_count": 27,
   "metadata": {
    "colab": {
     "base_uri": "https://localhost:8080/"
    },
    "id": "EG21mBUbBwSi",
    "outputId": "7a4469ee-53b1-425c-85a7-ed30e9324839"
   },
   "outputs": [
    {
     "name": "stdout",
     "output_type": "stream",
     "text": [
      "Logistic Regression - Training Accuracy: 0.9298274672187715\n",
      "Logistic Regression - Test Accuracy: 0.9104669887278583\n"
     ]
    }
   ],
   "source": [
    "#logistic regression model\n",
    "logistic_regression = LogisticRegression(random_state=42, max_iter=10000)\n",
    "\n",
    "\n",
    "logistic_regression.fit(X_train.toarray(), y_train)\n",
    "\n",
    "\n",
    "y_pred_train_lr = logistic_regression.predict(X_train.toarray())\n",
    "y_pred_test_lr = logistic_regression.predict(X_test.toarray())\n",
    "\n",
    "\n",
    "accuracy_train_lr = accuracy_score(y_train, y_pred_train_lr)\n",
    "accuracy_test_lr = accuracy_score(y_test, y_pred_test_lr)\n",
    "\n",
    "\n",
    "print('Logistic Regression - Training Accuracy:', accuracy_train_lr)\n",
    "print('Logistic Regression - Test Accuracy:', accuracy_test_lr)"
   ]
  },
  {
   "cell_type": "markdown",
   "metadata": {
    "id": "3wlmAuecM3sg"
   },
   "source": [
    "### Model Visualization"
   ]
  },
  {
   "cell_type": "code",
   "execution_count": 28,
   "metadata": {
    "colab": {
     "base_uri": "https://localhost:8080/",
     "height": 533
    },
    "id": "rYheLvDdM5y0",
    "outputId": "78b5e59b-e755-48c7-ea03-75cf4320881a"
   },
   "outputs": [
    {
     "data": {
      "image/png": "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",
      "text/plain": [
       "<Figure size 1000x500 with 1 Axes>"
      ]
     },
     "metadata": {},
     "output_type": "display_data"
    }
   ],
   "source": [
    "models = ['Random Forest', 'Logistic Regression']\n",
    "train_accuracies = [accuracy_train_rf, accuracy_train_lr]\n",
    "test_accuracies = [accuracy_test_rf, accuracy_test_lr]\n",
    "\n",
    "plt.figure(figsize=(10, 5))\n",
    "bar_width = 0.25\n",
    "index = np.arange(len(models))\n",
    "\n",
    "train_bars = plt.bar(index, train_accuracies, bar_width, label='Training Accuracy', color='skyblue')\n",
    "test_bars = plt.bar(index + bar_width, test_accuracies, bar_width, label='Test Accuracy', color='magenta')\n",
    "\n",
    "plt.xlabel('Models')\n",
    "plt.ylabel('Accuracy')\n",
    "plt.title('Model Accuracy Comparison')\n",
    "plt.xticks(index + bar_width / 2, models)\n",
    "plt.legend(loc='center', bbox_to_anchor=(0.5, -0.2), ncol=2, frameon=False)\n",
    "\n",
    "for bar in train_bars:\n",
    "    plt.text(bar.get_x() + bar.get_width() / 2, bar.get_height(), f'{bar.get_height():.2f}', ha='center', va='bottom')\n",
    "\n",
    "for bar in test_bars:\n",
    "    plt.text(bar.get_x() + bar.get_width() / 2, bar.get_height(), f'{bar.get_height():.2f}', ha='center', va='bottom')\n",
    "\n",
    "plt.show()"
   ]
  },
  {
   "cell_type": "code",
   "execution_count": null,
   "metadata": {
    "colab": {
     "base_uri": "https://localhost:8080/",
     "height": 472
    },
    "id": "AwczoCtJcltG",
    "outputId": "d1f485d1-612e-4a04-d533-1687a42ca3c6"
   },
   "outputs": [
    {
     "data": {
      "image/png": "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",
      "text/plain": [
       "<Figure size 640x480 with 2 Axes>"
      ]
     },
     "metadata": {},
     "output_type": "display_data"
    }
   ],
   "source": [
    "heatmap_data = np.array([\n",
    "    [accuracy_train_rf, accuracy_test_rf],\n",
    "    [accuracy_train_lr, accuracy_test_lr]\n",
    "])\n",
    "\n",
    "sns.heatmap(heatmap_data, annot=True, cmap='viridis', xticklabels=['Train', 'Test'], yticklabels=['Random Forest', 'Logistic Regression'])\n",
    "plt.title('Model Accuracy Heatmap')\n",
    "plt.xlabel('Data Type')\n",
    "plt.ylabel('Model')\n",
    "plt.show()"
   ]
  },
  {
   "cell_type": "markdown",
   "metadata": {
    "id": "ehHcWtY-OFXr"
   },
   "source": [
    "### Model Testing\n",
    "##### Since Logistic Regression has an even and high accuracy of over 90% we'll be using it to test our model."
   ]
  },
  {
   "cell_type": "code",
   "execution_count": 30,
   "metadata": {
    "colab": {
     "base_uri": "https://localhost:8080/"
    },
    "id": "okXtjuGNOOHR",
    "outputId": "255a7c3b-d7cb-49b2-b655-b5165962a8f3"
   },
   "outputs": [
    {
     "name": "stdout",
     "output_type": "stream",
     "text": [
      "The sentiment of the new sentence is NEGATIVE.\n"
     ]
    }
   ],
   "source": [
    "#Input a new sentence from the user\n",
    "new_sentence = input(\"Enter a new sentence: \")\n",
    "\n",
    "#Perform preprocessing on the new sentence\n",
    "new_sentence_cleaned = cleaningText(new_sentence)\n",
    "new_sentence_casefolded = casefoldingText(new_sentence_cleaned)\n",
    "new_sentence_tokenized = tokenizingText(new_sentence_casefolded)\n",
    "new_sentence_filtered = filteringText(new_sentence_tokenized)\n",
    "new_sentence_final = toSentence(new_sentence_filtered)\n",
    "\n",
    "\n",
    "X_new_sentence = tfidf.transform([new_sentence_final])\n",
    "\n",
    "\n",
    "predicted_sentiment = logistic_regression.predict(X_new_sentence)\n",
    "\n",
    "if predicted_sentiment[0] == 'positive':\n",
    "    print(\"The sentiment of the new sentence is POSITIVE.\")\n",
    "elif predicted_sentiment[0] == 'negative':\n",
    "    print(\"The sentiment of the new sentence is NEGATIVE.\")\n",
    "else:\n",
    "    print(\"The sentiment of the new sentence is NEUTRAL.\")\n"
   ]
  },
  {
   "cell_type": "markdown",
   "metadata": {
    "id": "rmlCIwSAWy6X"
   },
   "source": [
    "### Saving the Model\n",
    "##### Since this model will be used for Streamlit, we'll be saving it for that purpose."
   ]
  },
  {
   "cell_type": "code",
   "execution_count": 31,
   "metadata": {
    "id": "b4Numf0ZW5ol"
   },
   "outputs": [],
   "source": [
    "#pickle will save the model\n",
    "import pickle\n",
    "\n",
    "\n",
    "#save both models\n",
    "with open('random_forest_model.pkl', 'wb') as rf_file:\n",
    "    pickle.dump(random_forest, rf_file)\n",
    "\n",
    "\n",
    "with open('logistic_regression_model.pkl', 'wb') as lr_file:\n",
    "    pickle.dump(logistic_regression, lr_file)\n"
   ]
  }
 ],
 "metadata": {
  "colab": {
   "provenance": []
  },
  "kernelspec": {
   "display_name": "Python 3",
   "name": "python3"
  },
  "language_info": {
   "codemirror_mode": {
    "name": "ipython",
    "version": 3
   },
   "file_extension": ".py",
   "mimetype": "text/x-python",
   "name": "python",
   "nbconvert_exporter": "python",
   "pygments_lexer": "ipython3",
   "version": "3.11.3"
  }
 },
 "nbformat": 4,
 "nbformat_minor": 0
}
